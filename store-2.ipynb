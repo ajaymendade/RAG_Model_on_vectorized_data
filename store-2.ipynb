{
 "cells": [
  {
   "cell_type": "code",
   "execution_count": 3,
   "id": "21a6d6b7-2cb3-453b-b0b5-b1edab744b8f",
   "metadata": {},
    "outputs": [
    {
     "name": "stderr",
     "output_type": "stream",
     "text": [
      "No sentence-transformers model found with name bert-base-uncased. Creating a new one with MEAN pooling.\n"
     ]
    }
   ],
   "source": [
    "import pandas as pd\n",
    "import numpy as np\n",
    "import pymongo\n",
    "from bson import json_util\n",
    "import json\n",
    "from sentence_transformers import SentenceTransformer\n",
    "from sklearn.preprocessing import MinMaxScaler, OneHotEncoder\n",
    "from sklearn.impute import SimpleImputer\n",
    "\n",
    "# Load preprocessed data\n",
    "df = pd.read_csv('preprocessed_data.csv')\n",
    "\n",
    "# Initialize the vectorization model\n",
    "model = SentenceTransformer('bert-base-uncased')\n",
    "\n",
    "# Automatically identify column types\n",
    "text_columns = df.select_dtypes(include=['object']).columns\n",
    "numeric_columns = df.select_dtypes(include=[np.number]).columns\n",
    "numeric_columns = numeric_columns[df[numeric_columns].notna().any()]\n",
    "\n",
    "# Ensure 'ID' is not included in text_columns for vectorization\n",
    "text_columns = [col for col in text_columns if col != 'ID']\n",
    "\n",
    "# Vectorize text columns\n",
    "for column in text_columns:\n",
    "    df[f\"{column}_vectors\"] = df[column].apply(lambda x: model.encode(x, convert_to_tensor=True).numpy())\n",
    "\n",
    "# Impute NaN values in numeric columns\n",
    "imputer = SimpleImputer(strategy=\"median\")\n",
    "imputed_data = pd.DataFrame(imputer.fit_transform(df[numeric_columns]), columns=numeric_columns)\n",
    "df[numeric_columns] = imputed_data\n",
    "\n",
    "# Normalize numeric data\n",
    "scaler = MinMaxScaler()\n",
    "df[numeric_columns] = scaler.fit_transform(df[numeric_columns])\n",
    "\n",
    "# One-hot encode categorical data\n",
    "encoder = OneHotEncoder()\n",
    "encoded_categorical = encoder.fit_transform(df[text_columns]).toarray()\n",
    "df = df.drop(columns=text_columns)\n",
    "\n",
    "# Manually create feature names for the one-hot encoded columns\n",
    "new_feature_names = []\n",
    "for col, categories in zip(text_columns, encoder.categories_):\n",
    "    for category in categories:\n",
    "        new_feature_names.append(f\"{col}_{category}\")\n",
    "\n",
    "# Create a DataFrame with the encoded data\n",
    "encoded_df = pd.DataFrame(encoded_categorical, columns=new_feature_names, index=df.index)\n",
    "\n",
    "# Concatenate with the original DataFrame\n",
    "df = pd.concat([df, encoded_df], axis=1)\n",
    "\n",
    "# Connect to MongoDB\n",
    "client = pymongo.MongoClient(\"mongodb_uri\")\n",
    "db = client.rag\n",
    "\n",
    "# Create two collections\n",
    "collection_original = db.original_data\n",
    "collection_vectorized = db.vectorized_data\n",
    "\n",
    "# Convert DataFrame to JSON for original data, excluding vector columns\n",
    "json_original_data = json.loads(df.drop(columns=[col for col in df.columns if col.endswith('_vectors')]).to_json(orient='records'))\n",
    "\n",
    "# Convert DataFrame to JSON for vectorized data, excluding non-vector columns\n",
    "json_vectorized_data = json.loads(df.drop(columns=[col for col in df.columns if not col.endswith('_vectors') and col != 'ID']).to_json(orient='records'))\n",
    "\n",
    "# Insert data into MongoDB for original data\n",
    "collection_original.insert_many(json_original_data)\n",
    "\n",
    "# Insert data into MongoDB for vectorized data, including the 'ID' field\n",
    "for doc in json_vectorized_data:\n",
    "    matching_id = df.loc[df['ID'].astype(str) == str(doc['ID']), 'ID']  # Ensure the data types match\n",
    "    if not matching_id.empty:\n",
    "        doc['unique_key'] = matching_id.iloc[0]\n",
    "collection_vectorized.insert_many(json_vectorized_data)\n",
    "\n",
    "# Close the connection\n",
    "client.close()\n"
   ]
  },
  {
   "cell_type": "code",
   "execution_count": null,
   "id": "74f32fc2-e1f4-4b2f-9739-e650f2a3bc0a",
   "metadata": {},
   "outputs": [],
   "source": []
  }
 ],
 "metadata": {
  "kernelspec": {
   "display_name": "Python 3 (ipykernel)",
   "language": "python",
   "name": "python3"
  },
  "language_info": {
   "codemirror_mode": {
    "name": "ipython",
    "version": 3
   },
   "file_extension": ".py",
   "mimetype": "text/x-python",
   "name": "python",
   "nbconvert_exporter": "python",
   "pygments_lexer": "ipython3",
   "version": "3.10.11"
  }
 },
 "nbformat": 4,
 "nbformat_minor": 5
}
